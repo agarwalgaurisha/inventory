{
 "cells": [
  {
   "cell_type": "markdown",
   "id": "efbab427-4698-4748-a578-4157a895ffda",
   "metadata": {},
   "source": [
    "# Project on Inventory Management using JSON"
   ]
  },
  {
   "cell_type": "code",
   "execution_count": 9,
   "id": "58a0d331-3744-49a8-bce7-d4ba96a4217b",
   "metadata": {
    "scrolled": true
   },
   "outputs": [
    {
     "name": "stdout",
     "output_type": "stream",
     "text": [
      "---------- menu ----------\n",
      "1001 : apple | 0 | 10 rs\n",
      "------------------------\n",
      "1002 : guava | 0 | 5 rs\n",
      "------------------------\n",
      "1003 : grapes | 0 | 100 rs\n",
      "------------------------\n",
      "1004 : strawberry | 1 | 210 rs\n",
      "------------------------\n",
      "1005 : mango | 4 | 40 rs\n",
      "------------------------\n"
     ]
    },
    {
     "name": "stdin",
     "output_type": "stream",
     "text": [
      "enter the user name                       : sdf\n",
      "enter the user email id                   : sdf\n",
      "enter the user phone number               : sdf\n"
     ]
    },
    {
     "name": "stdout",
     "output_type": "stream",
     "text": [
      "------------------------\n"
     ]
    },
    {
     "name": "stdin",
     "output_type": "stream",
     "text": [
      "enter the id of the product               : 1001\n",
      "enter the qty you want                    : 1\n",
      "want more y\n",
      "enter the id of the product               : 1004\n",
      "enter the qty you want                    : 2\n",
      "want more n\n"
     ]
    },
    {
     "name": "stdout",
     "output_type": "stream",
     "text": [
      "------------------------\n",
      "            BILL              \n",
      "------------------------\n",
      "we dont have enough quantity ofapple\n",
      "we dont have enough quantity ofstrawberry\n",
      "The total amount : 0\n",
      "NET PAYABLE                  : 0.0\n",
      "TOTAL SAVINGS                : 0.0\n",
      "------------------------\n",
      "THANKS FOR PURCHASING\n",
      "------------------------\n"
     ]
    }
   ],
   "source": [
    "import time\n",
    "import json\n",
    "sale=\" \"\n",
    "f=open(\"recods.json\",\"r\")\n",
    "js=f.read()\n",
    "f.close()\n",
    "records=json.loads(js)\n",
    "print(10*\"-\",\"menu\",10*\"-\")\n",
    "for key in records.keys():\n",
    "    print(key,\":\",records[key][\"name\"],\"|\",records[key][\"qty\"],\"|\",records[key][\"price\"],\"rs\")\n",
    "    print(24*\"-\")  \n",
    "user_name=str(input(\"enter the user name                       :\"))\n",
    "user_mail=str(input(\"enter the user email id                   :\"))\n",
    "user_phonenumber=str(input(\"enter the user phone number               :\"))\n",
    "print(24*\"-\") \n",
    "dict={}\n",
    "ch=\"y\"\n",
    "while(ch==\"y\" or ch==\"Y\"):\n",
    "    user_id=str(input(\"enter the id of the product               :\"))\n",
    "    user_qty=int(input(\"enter the qty you want                    :\"))\n",
    "    dict[user_id]=user_qty\n",
    "    ch=input(\"want more\")\n",
    "print(24*\"-\")\n",
    "print(\"            BILL              \")\n",
    "print(24*\"-\")\n",
    "sum=0\n",
    "for key in dict.keys():\n",
    "  qty_p=dict[key]   \n",
    "  if key in records.keys():\n",
    "     if qty_p<=int(records[key][\"qty\"]):\n",
    "    \n",
    "    \n",
    "    \n",
    "        print(\"The name of the product      :\",records[key][\"name\"])\n",
    "        print(\"The price of the product     :\",records[key][\"price\"],\"Rs\")\n",
    "        print(\"The quantity of the product  :\",qty_p)\n",
    "        \n",
    "        product_value=qty_p*int(records[key][\"price\"])\n",
    "        sum=sum+product_value\n",
    "        print(\"The amount of the product             : \",product_value,\"Rs\")\n",
    "        print(24*\"-\")\n",
    "        print(24*\"-\")\n",
    "        records[key][\"qty\"]=str(int(records[key][\"qty\"])-qty_p)\n",
    "        sale=user_name+\",\"+user_phonenumber+\",\"+user_mail+\",\"+key+\",\"+records[key][\"name\"]+\",\"+records[key][\"price\"]+\",\"+str(qty_p)+\",\"+time.ctime()+\",\"+str(user_qty*int(records[user_id][\"price\"]))\n",
    "     else:\n",
    "         print(24*\"-\")\n",
    "         print(f\"we dont have enough quantity of{records[key]['name']}\")\n",
    "         print(24*\"-\")\n",
    "  else:\n",
    "    print(24*\"-\")\n",
    "    print(\"not valid product id\")   \n",
    "    print(24*\"-\") \n",
    "print(24*\"-\")  \n",
    "print(\"The total amount :\" ,sum)\n",
    "discount=sum*0.1\n",
    "print(24*\"-\")  \n",
    "print(\"NET PAYABLE                  :\",sum-discount)\n",
    "print(\"TOTAL SAVINGS                :\",discount)\n",
    "print(24*\"-\")  \n",
    "    \n",
    "\n",
    "js=json.dumps(records)\n",
    "f=open(\"recods.json\",\"w\")\n",
    "f.write(js)\n",
    "f.close()\n",
    "f=open(\"sales.txt\",\"a+\")\n",
    "f.write(sale)\n",
    "f.close()\n",
    "print(\"-\"*24)\n",
    "print(\"THANKS FOR PURCHASING\")\n",
    "print(\"-\"*24)\n"
   ]
  },
  {
   "cell_type": "code",
   "execution_count": null,
   "id": "a945c453-e525-4a5a-93ff-c990b7ec11d8",
   "metadata": {},
   "outputs": [],
   "source": []
  },
  {
   "cell_type": "code",
   "execution_count": null,
   "id": "c4589959-f3fa-4595-baa5-560909375c8c",
   "metadata": {},
   "outputs": [],
   "source": []
  },
  {
   "cell_type": "code",
   "execution_count": null,
   "id": "fb26ea36-1756-452a-be5f-82c1a75a5494",
   "metadata": {},
   "outputs": [],
   "source": []
  }
 ],
 "metadata": {
  "kernelspec": {
   "display_name": "Python 3 (ipykernel)",
   "language": "python",
   "name": "python3"
  },
  "language_info": {
   "codemirror_mode": {
    "name": "ipython",
    "version": 3
   },
   "file_extension": ".py",
   "mimetype": "text/x-python",
   "name": "python",
   "nbconvert_exporter": "python",
   "pygments_lexer": "ipython3",
   "version": "3.11.3"
  }
 },
 "nbformat": 4,
 "nbformat_minor": 5
}
